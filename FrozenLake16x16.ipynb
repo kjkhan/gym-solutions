{
 "cells": [
  {
   "cell_type": "code",
   "execution_count": 18,
   "metadata": {},
   "outputs": [
    {
     "name": "stdout",
     "output_type": "stream",
     "text": [
      "The autoreload extension is already loaded. To reload it, use:\n",
      "  %reload_ext autoreload\n"
     ]
    }
   ],
   "source": [
    "%load_ext autoreload\n",
    "%autoreload 2\n",
    "\n",
    "from gym.envs.toy_text import FrozenLakeEnv\n",
    "from analysis.mdp import run_discrete"
   ]
  },
  {
   "cell_type": "code",
   "execution_count": 23,
   "metadata": {},
   "outputs": [
    {
     "name": "stdout",
     "output_type": "stream",
     "text": [
      "== FrozenLake16x16v0 ==\n",
      "Actions: 4\n",
      "States: 256\n",
      "[[b'S' b'F' b'F' b'F' b'F' b'F' b'F' b'F' b'H' b'F' b'F' b'F' b'F' b'F'\n",
      "  b'F' b'F']\n",
      " [b'F' b'F' b'F' b'F' b'F' b'F' b'F' b'F' b'F' b'F' b'F' b'F' b'F' b'F'\n",
      "  b'F' b'F']\n",
      " [b'F' b'F' b'F' b'H' b'F' b'F' b'F' b'F' b'F' b'F' b'F' b'H' b'F' b'F'\n",
      "  b'F' b'F']\n",
      " [b'F' b'F' b'F' b'F' b'F' b'H' b'F' b'F' b'F' b'F' b'F' b'F' b'F' b'H'\n",
      "  b'F' b'F']\n",
      " [b'F' b'F' b'F' b'H' b'F' b'F' b'F' b'F' b'F' b'F' b'F' b'H' b'F' b'F'\n",
      "  b'F' b'F']\n",
      " [b'F' b'H' b'H' b'F' b'F' b'F' b'H' b'F' b'F' b'H' b'H' b'F' b'F' b'F'\n",
      "  b'H' b'F']\n",
      " [b'F' b'H' b'F' b'F' b'H' b'F' b'H' b'F' b'F' b'H' b'F' b'F' b'H' b'F'\n",
      "  b'H' b'F']\n",
      " [b'F' b'F' b'F' b'H' b'F' b'F' b'F' b'F' b'F' b'F' b'F' b'H' b'F' b'F'\n",
      "  b'F' b'H']\n",
      " [b'H' b'F' b'F' b'F' b'F' b'F' b'F' b'F' b'H' b'F' b'F' b'F' b'F' b'F'\n",
      "  b'F' b'F']\n",
      " [b'F' b'F' b'F' b'F' b'F' b'F' b'H' b'H' b'H' b'F' b'F' b'F' b'F' b'F'\n",
      "  b'F' b'F']\n",
      " [b'F' b'F' b'F' b'H' b'F' b'F' b'F' b'F' b'F' b'F' b'F' b'H' b'F' b'F'\n",
      "  b'F' b'F']\n",
      " [b'F' b'F' b'F' b'F' b'F' b'H' b'F' b'F' b'F' b'F' b'F' b'F' b'F' b'H'\n",
      "  b'F' b'F']\n",
      " [b'F' b'F' b'F' b'H' b'F' b'F' b'F' b'F' b'F' b'F' b'F' b'H' b'F' b'F'\n",
      "  b'F' b'F']\n",
      " [b'F' b'H' b'H' b'F' b'F' b'F' b'H' b'F' b'F' b'H' b'H' b'F' b'F' b'F'\n",
      "  b'H' b'F']\n",
      " [b'F' b'H' b'F' b'F' b'H' b'F' b'H' b'F' b'F' b'H' b'F' b'F' b'H' b'F'\n",
      "  b'H' b'F']\n",
      " [b'F' b'F' b'F' b'H' b'F' b'F' b'F' b'F' b'F' b'F' b'F' b'H' b'F' b'F'\n",
      "  b'F' b'G']]\n",
      "\n",
      "== Value Iteration ==\n",
      "value_iteration function took 23.608 ms\n",
      "Iterations: 26\n",
      "\n",
      "== Policy Iteration ==\n",
      "policy_iteration function took 45.066 ms\n",
      "Iterations: 20\n",
      "\n",
      "Discrepancy: 41\n",
      "\n",
      "== Policy ==\n",
      "[['U' 'R' 'R' 'R' 'R' 'R' 'R' 'L' 'L' 'R' 'R' 'R' 'R' 'R' 'R' 'R']\n",
      " ['U' 'R' 'R' 'U' 'R' 'R' 'R' 'D' 'D' 'R' 'R' 'U' 'R' 'D' 'D' 'D']\n",
      " ['R' 'R' 'L' 'L' 'R' 'U' 'R' 'D' 'D' 'D' 'L' 'L' 'R' 'U' 'D' 'D']\n",
      " ['U' 'R' 'U' 'D' 'L' 'L' 'R' 'D' 'D' 'D' 'U' 'D' 'L' 'L' 'R' 'D']\n",
      " ['R' 'U' 'L' 'L' 'R' 'D' 'U' 'R' 'L' 'U' 'L' 'L' 'R' 'D' 'U' 'U']\n",
      " ['L' 'L' 'L' 'D' 'U' 'L' 'L' 'R' 'L' 'L' 'L' 'D' 'U' 'L' 'L' 'R']\n",
      " ['L' 'L' 'D' 'L' 'L' 'L' 'L' 'R' 'L' 'L' 'D' 'L' 'L' 'L' 'L' 'R']\n",
      " ['U' 'D' 'L' 'L' 'D' 'D' 'D' 'U' 'U' 'D' 'L' 'L' 'D' 'D' 'L' 'L']\n",
      " ['L' 'R' 'D' 'D' 'R' 'R' 'U' 'L' 'L' 'R' 'D' 'D' 'D' 'D' 'D' 'D']\n",
      " ['D' 'R' 'R' 'U' 'R' 'L' 'L' 'L' 'L' 'R' 'R' 'U' 'R' 'R' 'R' 'D']\n",
      " ['U' 'R' 'L' 'L' 'R' 'U' 'D' 'D' 'D' 'R' 'L' 'L' 'R' 'U' 'R' 'D']\n",
      " ['U' 'R' 'U' 'D' 'L' 'L' 'R' 'R' 'R' 'R' 'U' 'D' 'L' 'L' 'R' 'D']\n",
      " ['U' 'U' 'L' 'L' 'R' 'D' 'U' 'R' 'U' 'U' 'L' 'L' 'R' 'D' 'U' 'R']\n",
      " ['L' 'L' 'L' 'D' 'U' 'L' 'L' 'R' 'L' 'L' 'L' 'D' 'U' 'L' 'L' 'R']\n",
      " ['L' 'L' 'D' 'L' 'L' 'L' 'L' 'R' 'L' 'L' 'D' 'L' 'L' 'L' 'L' 'R']\n",
      " ['D' 'D' 'L' 'L' 'D' 'R' 'D' 'R' 'R' 'D' 'L' 'L' 'D' 'D' 'D' 'L']]\n",
      "\n"
     ]
    },
    {
     "data": {
      "text/plain": [
       "array([3, 2, 2, 2, 2, 2, 2, 0, 0, 2, 2, 2, 2, 2, 2, 2, 3, 2, 2, 3, 2, 2,\n",
       "       2, 1, 1, 2, 2, 3, 2, 1, 1, 1, 2, 2, 0, 0, 2, 3, 2, 1, 1, 1, 0, 0,\n",
       "       2, 3, 1, 1, 3, 2, 3, 1, 0, 0, 2, 1, 1, 1, 3, 1, 0, 0, 2, 1, 2, 3,\n",
       "       0, 0, 2, 1, 3, 2, 0, 3, 0, 0, 2, 1, 3, 3, 0, 0, 0, 1, 3, 0, 0, 2,\n",
       "       0, 0, 0, 1, 3, 0, 0, 2, 0, 0, 1, 0, 0, 0, 0, 2, 0, 0, 1, 0, 0, 0,\n",
       "       0, 2, 3, 1, 0, 0, 1, 1, 1, 3, 3, 1, 0, 0, 1, 1, 0, 0, 0, 2, 1, 1,\n",
       "       2, 2, 3, 0, 0, 2, 1, 1, 1, 1, 1, 1, 1, 2, 2, 3, 2, 0, 0, 0, 0, 2,\n",
       "       2, 3, 2, 2, 2, 1, 3, 2, 0, 0, 2, 3, 1, 1, 1, 2, 0, 0, 2, 3, 2, 1,\n",
       "       3, 2, 3, 1, 0, 0, 2, 2, 2, 2, 3, 1, 0, 0, 2, 1, 3, 3, 0, 0, 2, 1,\n",
       "       3, 2, 3, 3, 0, 0, 2, 1, 3, 2, 0, 0, 0, 1, 3, 0, 0, 2, 0, 0, 0, 1,\n",
       "       3, 0, 0, 2, 0, 0, 1, 0, 0, 0, 0, 2, 0, 0, 1, 0, 0, 0, 0, 2, 1, 1,\n",
       "       0, 0, 1, 2, 1, 2, 2, 1, 0, 0, 1, 1, 1, 0])"
      ]
     },
     "execution_count": 23,
     "metadata": {},
     "output_type": "execute_result"
    }
   ],
   "source": [
    "# NEW 16x16 FROZEN LAKE\n",
    "mapping = {0: \"L\", 1: \"D\", 2: \"R\", 3: \"U\"}\n",
    "desc = [\"SFFFFFFFHFFFFFFF\",\n",
    "        \"FFFFFFFFFFFFFFFF\",\n",
    "        \"FFFHFFFFFFFHFFFF\",\n",
    "        \"FFFFFHFFFFFFFHFF\",\n",
    "        \"FFFHFFFFFFFHFFFF\",\n",
    "        \"FHHFFFHFFHHFFFHF\",\n",
    "        \"FHFFHFHFFHFFHFHF\",\n",
    "        \"FFFHFFFFFFFHFFFH\",\n",
    "        \"HFFFFFFFHFFFFFFF\",\n",
    "        \"FFFFFFHHHFFFFFFF\",\n",
    "        \"FFFHFFFFFFFHFFFF\",\n",
    "        \"FFFFFHFFFFFFFHFF\",\n",
    "        \"FFFHFFFFFFFHFFFF\",\n",
    "        \"FHHFFFHFFHHFFFHF\",\n",
    "        \"FHFFHFHFFHFFHFHF\",\n",
    "        \"FFFHFFFFFFFHFFFG\"]\n",
    "shape = (16, 16)\n",
    "env = FrozenLakeEnv(desc=desc, map_name=None)\n",
    "run_discrete(\"FrozenLake16x16v0\", mapping, shape, problem=env)"
   ]
  },
  {
   "cell_type": "code",
   "execution_count": null,
   "metadata": {},
   "outputs": [],
   "source": []
  },
  {
   "cell_type": "code",
   "execution_count": null,
   "metadata": {},
   "outputs": [],
   "source": []
  }
 ],
 "metadata": {
  "hide_input": false,
  "kernelspec": {
   "display_name": "Python 3",
   "language": "python",
   "name": "python3"
  },
  "language_info": {
   "codemirror_mode": {
    "name": "ipython",
    "version": 3
   },
   "file_extension": ".py",
   "mimetype": "text/x-python",
   "name": "python",
   "nbconvert_exporter": "python",
   "pygments_lexer": "ipython3",
   "version": "3.6.5"
  }
 },
 "nbformat": 4,
 "nbformat_minor": 2
}
